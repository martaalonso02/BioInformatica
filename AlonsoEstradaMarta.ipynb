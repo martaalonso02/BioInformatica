{
 "cells": [
  {
   "cell_type": "markdown",
   "metadata": {},
   "source": [
    "# TRABAJO DE PYTHON\n",
    "\n",
    "### Este trabajo cuenta el 30% de la nota. La entrega será el 5 de Noviembre a las 23:59.\n",
    "\n",
    "### Resuelve los siguientes ejercicios en Python sin usar expresiones regulares\n",
    "\n",
    "#### Utiliza tantas celdas de código como necesites\n",
    "\n",
    "##\n",
    "\n",
    "\n",
    "\n",
    "\n",
    "\n",
    "\n",
    "\n"
   ]
  },
  {
   "cell_type": "markdown",
   "metadata": {},
   "source": [
    "### 1.- BUSCA LA SECUENCIA COMPLEMENTARIA\n",
    "#### Devuelve la secuencia complementaria de la siguiente secuencia de ADN"
   ]
  },
  {
   "cell_type": "code",
   "execution_count": 11,
   "metadata": {},
   "outputs": [],
   "source": [
    "my_dna = \"ACTGATCGATTACGTATAGTATTTGCTATCATACATATATATCGATGCGTTCAT\""
   ]
  },
  {
   "cell_type": "code",
   "execution_count": 12,
   "metadata": {},
   "outputs": [
    {
     "name": "stdout",
     "output_type": "stream",
     "text": [
      "TGACTAGCTAATGCATATCATAAACGATAGTATGTATATATAGCTACGCAAGTA\n"
     ]
    }
   ],
   "source": [
    "def secuencia_complementaria(adn):\n",
    "    complementos = {'A': 'T', 'T': 'A', 'C': 'G', 'G': 'C'}\n",
    "    resultado = ''.join(complementos[base] for base in adn)\n",
    "    return resultado\n",
    "\n",
    "#Obtenemos la secuencia complementaria\n",
    "\n",
    "adnComplementario = secuenciaComplementaria(my_dna)\n",
    "\n",
    "print(adnComplementario)"
   ]
  },
  {
   "cell_type": "markdown",
   "metadata": {},
   "source": [
    "##\n",
    "### 2.- FRAGMENTOS DE RESTRICCION\n",
    "#### Obtén los fragmentos de restricción de EcoRI, que tiene un sitio de corte en G*AATTC (la posición de corte se indica por el *).\n",
    "#### No uses expresiones regulares. \n",
    "#### Pista: utiliza la función find()"
   ]
  },
  {
   "cell_type": "code",
   "execution_count": 13,
   "metadata": {
    "scrolled": true
   },
   "outputs": [],
   "source": [
    "my_dna = \"ACTGATCGATTACGTATAGTATTTGCTATGAATTCCATACATATATATCGATGCGTTCAT\""
   ]
  },
  {
   "cell_type": "code",
   "execution_count": 14,
   "metadata": {},
   "outputs": [
    {
     "name": "stdout",
     "output_type": "stream",
     "text": [
      "El corte está en la posicion 30\n",
      "Resultado: ACTGATCGATTACGTATAGTATTTGCTATG · AATTC · CATACATATATATCGATGCGTTCAT\n"
     ]
    }
   ],
   "source": [
    "punto_corte=my_dna.find(\"GAATTC\")+1\n",
    "print(\"El corte está en la posicion \"+ str(punto_corte))\n",
    "\n",
    "resultadoCortes= my_dna[:punto_corte]+\" · \"+my_dna[punto_corte:punto_corte+len(\"AATTC\")] + \" · \" + my_dna[punto_corte+len(\"AATTC\"):]\n",
    "\n",
    "print(\"El resutado es \"+resultadoCortes)"
   ]
  },
  {
   "cell_type": "markdown",
   "metadata": {},
   "source": [
    "##\n",
    "### 3.- ENCUENTRA LOS EXONES\n",
    "#### Encuentra los exones en la siguiente secuencia\n",
    "1. El primer exón va de la primera base a la base 63 (empieza a contar desde 0)\n",
    "2. El segundo exón va de la base 91 (contando desde 0) hasta el final\n",
    "3. Calcula el porcentaje de secuencia codificante\n",
    "4. Imprime en pantalla la secuencia original con los exones en mayúsculas y los intrones en minúsculas"
   ]
  },
  {
   "cell_type": "code",
   "execution_count": 15,
   "metadata": {},
   "outputs": [],
   "source": [
    "genomic_dna = \"ATCGATCGATCGATCGACTGACTAGTCATAGCTATGCATGTAGCTACTCGATCGATCGATCGATCGATCGATCGATCGATCGATCATGCTATCATCGATCGATATCGATGCATCGACTACTAT\""
   ]
  },
  {
   "cell_type": "code",
   "execution_count": 16,
   "metadata": {},
   "outputs": [
    {
     "name": "stdout",
     "output_type": "stream",
     "text": [
      "Primer exón: ATCGATCGATCGATCGACTGACTAGTCATAGCTATGCATGTAGCTACTCGATCGATCGATCGAT\n",
      "Segundo exón: TCATCGATCGATATCGATGCATCGACTACTAT\n",
      "\n",
      "Porcentaje de secuencia codificante: 78.04878048780488%\n",
      "Porcentaje de secuencia codificante con solo dos decimales: 78.04%\n"
     ]
    }
   ],
   "source": [
    "primer_exon = genomic_dna[:64]\n",
    "print(\"Primer exón: \" + str(primer_exon))\n",
    "segundo_exon = genomic_dna[91:]\n",
    "print(\"Segundo exón: \" + str(segundo_exon))\n",
    "\n",
    "print()\n",
    "\n",
    "porcentaje_codificante= ((len(primer_exon)+len(segundo_exon))/len(genomic_dna))*100\n",
    "print(\"Porcentaje de secuencia codificante: \" + str(porcentaje_codificante) + \"%\")\n",
    "print(\"Porcentaje de secuencia codificante con solo dos decimales: \" + str(porcentaje_codificante)[:5] + \"%\")\n"
   ]
  },
  {
   "cell_type": "markdown",
   "metadata": {},
   "source": [
    "##\n",
    "### 4.- ESCRIBE UN ARCHIVO FASTA\n",
    "#### Escribe un archivo FASTA que tenga las siguientes secuencias:\n",
    "1. ABC123 \tATCGTACGATCGATCGATCGCTAGACGTATCG\n",
    "2. DEF456 \tactgatcgacgatcgatcgatcacgact\n",
    "3. HIJ789 \tACTGAC-ACTGT--ACTGTA----CATGTG\n",
    "\n",
    "###### *Ten en cuenta que todas las secuencias deben tener solo ATGC caracteres y tienen que estar en mayúsculas\n",
    "###### Recuerda que las secuencias en FASTA empiezan por una línea \">identificador\" y la siguiente línea tiene la secuencia\n",
    "\n",
    "###### >ABC123\n",
    "###### ATCGTACGATCGATCGATCGCTAGACGTATCG\n",
    "###### >DEF456\n",
    "###### ACTGATCGACGATCGATCGATCACGACT\n",
    "###### >HIJ789\n",
    "###### ACTGACACTGTACTGTACATGTG"
   ]
  },
  {
   "cell_type": "code",
   "execution_count": 18,
   "metadata": {},
   "outputs": [
    {
     "name": "stdout",
     "output_type": "stream",
     "text": [
      "ABC123\n",
      "ATCGTACGATCGATCGATCGCTAGACGTATCG\n",
      "DEF456\n",
      "actgatcgacgatcgatcgatcacgact\n",
      "HIJ789\n",
      "ACTGAC-ACTGT--ACTGTA----CATGTG\n"
     ]
    }
   ],
   "source": [
    "d={\n",
    "    'ABC123' :'ATCGTACGATCGATCGATCGCTAGACGTATCG',\n",
    "    'DEF456' : 'actgatcgacgatcgatcgatcacgact',\n",
    "    'HIJ789' : 'ACTGAC-ACTGT--ACTGTA----CATGTG'\n",
    "}\n",
    "\n",
    "for key in d.keys():\n",
    "    print(key)\n",
    "    print(d[key])"
   ]
  },
  {
   "cell_type": "code",
   "execution_count": 1,
   "metadata": {},
   "outputs": [
    {
     "name": "stdout",
     "output_type": "stream",
     "text": [
      "{'ABC123': 'ATCGTACGATCGATCGATCGCTAGACGTATCG', 'DEF456': 'ACTGATCGACGATCGATCGATCACGACT', 'HIJ789': 'ACTGACACTGTACTGTACATGTG'}\n"
     ]
    }
   ],
   "source": [
    "\n",
    "# Diccionario de secuencias con identificadores\n",
    "sequences = {\n",
    "    \"ABC123\": \"ATCGTACGATCGATCGATCGCTAGACGTATCG\",\n",
    "    \"DEF456\": \"ACTGATCGACGATCGATCGATCACGACT\",\n",
    "    \"HIJ789\": \"ACTGAC-ACTGT--ACTGTA----CATGTG\"\n",
    "}\n",
    "\n",
    "# Función para limpiar una secuencia, manteniendo solo las letras 'ATGC' y convirtiéndolas a mayúsculas\n",
    "def clean_sequence(sequence):\n",
    "    return ''.join(char for char in sequence if char in 'ATGC').upper()\n",
    "\n",
    "# Escribir las secuencias limpias en un archivo \"secuencias.fasta\"\n",
    "with open(\"secuencias.fasta\", \"w\") as file:\n",
    "    for identifier, sequence in sequences.items():\n",
    "        cleaned_sequence = clean_sequence(sequence)\n",
    "        file.write(f\">{identifier}\\n{cleaned_sequence}\\n\")\n",
    "\n",
    "# Diccionario para almacenar las secuencias leídas desde el archivo\n",
    "sequences = {}\n",
    "current_sequence = None\n",
    "\n",
    "# Leer las secuencias desde el archivo \"secuencias.fasta\"\n",
    "with open(\"secuencias.fasta\", 'r') as file:\n",
    "    for line in file:\n",
    "        line = line.strip()\n",
    "        if line.startswith('>'):\n",
    "            current_sequence = line[1:]\n",
    "            sequences[current_sequence] = \"\"\n",
    "        elif current_sequence is not None:\n",
    "            sequences[current_sequence] += line\n",
    "\n",
    "# Imprimir el diccionario de secuencias\n",
    "print(sequences)\n",
    "\n"
   ]
  },
  {
   "cell_type": "markdown",
   "metadata": {},
   "source": [
    "##\n",
    "### 5.- ELIMINA ADAPTADORES\n",
    "#### El archivo input.txt tiene unas secuencias de ADN, una por línea. \n",
    "#### Todas las secuencias empiezan con el mismo adaptador que llega hasta la base 14. Escribe un programa que:\n",
    "1. Remueva el adaptador de la secuencia y escriba la secuencia limpia en un archivo\n",
    "2. Imprima en pantalla la longitud de cada secuencia limpia"
   ]
  },
  {
   "cell_type": "code",
   "execution_count": 2,
   "metadata": {},
   "outputs": [
    {
     "name": "stdout",
     "output_type": "stream",
     "text": [
      "Longitud de la secuencia limpia: 42\n",
      "Longitud de la secuencia limpia: 37\n",
      "Longitud de la secuencia limpia: 48\n",
      "Longitud de la secuencia limpia: 33\n",
      "Longitud de la secuencia limpia: 47\n"
     ]
    }
   ],
   "source": [
    "# Función para eliminar los primeros 14 caracteres de una secuencia\n",
    "def remove_adapter(sequence):\n",
    "    return sequence[14:]\n",
    "\n",
    "input_file = \"input.txt\"  # Nombre del archivo de entrada\n",
    "output_file = \"cleaned_sequences.txt\"  # Nombre del archivo de salida\n",
    "\n",
    "with open(input_file, 'r') as input_f:\n",
    "\n",
    "    with open(output_file, 'w') as output_f:\n",
    "        for line in input_f:\n",
    "            sequence = line.strip()  # Leer y eliminar caracteres de espacio en blanco\n",
    "            cleaned_sequence = remove_adapter(sequence)\n",
    "            output_f.write(cleaned_sequence + '\\n')  # Escribir la secuencia limpia en el archivo de salida\n",
    "            print(f\"Longitud de la secuencia limpia: {len(cleaned_sequence)}\")\n",
    "\n",
    "\n",
    "\n",
    "\n"
   ]
  },
  {
   "cell_type": "markdown",
   "metadata": {},
   "source": [
    "##\n",
    "### 6.- PORCENTAJE DE AMINO ACIDOS\n",
    "#### Escribe una función que tome dos argumentos: una secuencia de proteínas y un amino ácido. \n",
    "#### Queremos que devuelva el porcentaje del amino ácido en la secuencia de proteínas. \n",
    "#### Una vez que tengas hecha tu función, emplea las siguientes aserciones para comprobar tu código."
   ]
  },
  {
   "cell_type": "code",
   "execution_count": 46,
   "metadata": {},
   "outputs": [],
   "source": [
    "def my_function(protein_sequence, target_amino_acid):\n",
    "    if not protein_sequence or not target_amino_acid:\n",
    "        return \"Vacía\"  # Retorna \"Vacía\" si alguno de los argumentos está vacío\n",
    "\n",
    "    # Convierte la secuencia de proteínas y el aminoácido objetivo a mayúsculas para hacer la búsqueda insensible a mayúsculas.\n",
    "    protein_sequence = protein_sequence.upper()\n",
    "    target_amino_acid = target_amino_acid.upper()\n",
    "\n",
    "    # Cuenta cuántas veces aparece el aminoácido objetivo en la secuencia de proteínas.\n",
    "    amino_acid_count = protein_sequence.count(target_amino_acid)\n",
    "\n",
    "    # Calcula el porcentaje de veces que aparece el aminoácido objetivo en la secuencia.\n",
    "    percentage = (amino_acid_count / len(protein_sequence)) * 100\n",
    "\n",
    "    return percentage  # Retorna el porcentaje calculado.\n"
   ]
  },
  {
   "cell_type": "code",
   "execution_count": 47,
   "metadata": {},
   "outputs": [],
   "source": [
    "assert my_function(\"MSRSLLLRFLLFLLLLPPLP\", \"M\") == 5\n",
    "assert my_function(\"MSRSLLLRFLLFLLLLPPLP\", \"r\") == 10\n",
    "assert my_function(\"msrslllrfllfllllpplp\", \"L\") == 50\n",
    "assert my_function(\"MSRSLLLRFLLFLLLLPPLP\", \"Y\") == 0"
   ]
  },
  {
   "cell_type": "code",
   "execution_count": 33,
   "metadata": {},
   "outputs": [
    {
     "data": {
      "text/plain": [
       "True"
      ]
     },
     "execution_count": 33,
     "metadata": {},
     "output_type": "execute_result"
    }
   ],
   "source": [
    "porcentaje_aminoacidos(\"MSRSLLLRFLLFLLLLPPLP\", \"M\") == 5\n"
   ]
  },
  {
   "cell_type": "code",
   "execution_count": 34,
   "metadata": {},
   "outputs": [
    {
     "data": {
      "text/plain": [
       "True"
      ]
     },
     "execution_count": 34,
     "metadata": {},
     "output_type": "execute_result"
    }
   ],
   "source": [
    "porcentaje_aminoacidos(\"MSRSLLLRFLLFLLLLPPLP\", \"r\") == 10"
   ]
  },
  {
   "cell_type": "code",
   "execution_count": 35,
   "metadata": {},
   "outputs": [
    {
     "data": {
      "text/plain": [
       "True"
      ]
     },
     "execution_count": 35,
     "metadata": {},
     "output_type": "execute_result"
    }
   ],
   "source": [
    "porcentaje_aminoacidos(\"msrslllrfllfllllpplp\", \"L\") == 50"
   ]
  },
  {
   "cell_type": "code",
   "execution_count": 36,
   "metadata": {},
   "outputs": [
    {
     "data": {
      "text/plain": [
       "True"
      ]
     },
     "execution_count": 36,
     "metadata": {},
     "output_type": "execute_result"
    }
   ],
   "source": [
    "porcentaje_aminoacidos(\"MSRSLLLRFLLFLLLLPPLP\", \"Y\") == 0"
   ]
  },
  {
   "cell_type": "code",
   "execution_count": null,
   "metadata": {},
   "outputs": [],
   "source": []
  }
 ],
 "metadata": {
  "kernelspec": {
   "display_name": "Python 3 (ipykernel)",
   "language": "python",
   "name": "python3"
  },
  "language_info": {
   "codemirror_mode": {
    "name": "ipython",
    "version": 3
   },
   "file_extension": ".py",
   "mimetype": "text/x-python",
   "name": "python",
   "nbconvert_exporter": "python",
   "pygments_lexer": "ipython3",
   "version": "3.11.4"
  }
 },
 "nbformat": 4,
 "nbformat_minor": 4
}
